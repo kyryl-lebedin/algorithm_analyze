{
 "cells": [
  {
   "cell_type": "code",
   "execution_count": 24,
   "metadata": {},
   "outputs": [],
   "source": [
    "import matplotlib.pyplot as plt\n",
    "import numpy as np\n",
    "import pandas as pd\n",
    "import random\n",
    "import time\n",
    "from io import BytesIO\n",
    "from IPython.display import display\n",
    "import statsmodels.api as sm\n",
    "import os\n",
    "from datetime import datetime\n",
    "from PIL import Image\n",
    "import shutil"
   ]
  },
  {
   "cell_type": "code",
   "execution_count": 85,
   "metadata": {},
   "outputs": [],
   "source": [
    "def algorithm_analyze(code_str, input_type):\n",
    "\n",
    "    pol_degree = 4\n",
    "    n_range = 700 # 700 is good\n",
    "    n_value = 500\n",
    "\n",
    "    def get_function_object(code_str):\n",
    "        local_scope = {}\n",
    "        \n",
    "        # Execute the function definon in a scope where it can recursively reference itself\n",
    "        exec(code_str, local_scope, local_scope)  # Using local_scope as both global and local scope\n",
    "        \n",
    "        func_name = next(key for key, value in local_scope.items() if callable(value))\n",
    "        algorithm = local_scope[func_name]\n",
    "        \n",
    "        return algorithm\n",
    "\n",
    "\n",
    "\n",
    "    def get_graph(function, input_type):\n",
    "        if input_type == 'list':\n",
    "            sizes, times = list_input(function)\n",
    "            \n",
    "        # if input_type == 'matrix':\n",
    "        #     sizes, times = matrix_input(function)\n",
    "\n",
    "        # if input_type == 'string':\n",
    "        #     sizes, times = string_input(function)\n",
    "\n",
    "        # if input_type == 'plain graph matrix':\n",
    "        #     sizes, times = graph_matrix_input(function)\n",
    "             \n",
    "\n",
    "            # Fit a polynomial curve to the data\n",
    "        coefficients = np.polyfit(sizes, times, deg=pol_degree)  # Degree 4 polynomial\n",
    "        poly = np.poly1d(coefficients)\n",
    "\n",
    "        # Generate smooth data for the fitted curve\n",
    "        smooth_sizes = np.linspace(min(sizes), max(sizes), 500)  # Smooth sizes from min to max size\n",
    "        smooth_times = poly(smooth_sizes)  # Evaluate polynomial\n",
    "\n",
    "        plt.figure()\n",
    "        plt.plot(sizes, times, 'o', markersize=3, label='Original Data', color='white')  # Original data points\n",
    "        plt.plot(smooth_sizes, smooth_times, 'r-', label='Fitted Curve')  # Fitted curve\n",
    "        plt.axis('off')  # Hide the axes\n",
    "\n",
    "        # Save the plot to a BytesIO stream\n",
    "        buf = BytesIO()\n",
    "        plt.savefig(buf, format='png', bbox_inches='tight', pad_inches=0)\n",
    "        plt.close()  # Close the figure to free memory\n",
    "        buf.seek(0)  # Rewind your buffer\n",
    "        return buf, coefficients.tolist()\n",
    "\n",
    "    def list_input(function):\n",
    "        \n",
    "        n_size = n_range\n",
    "        a_size = n_value\n",
    "        sizes = list(range(1, n_size)) \n",
    "        times = []\n",
    "\n",
    "    \n",
    "        for size in sizes:\n",
    "        \n",
    "            test_list = [random.randint(1, a_size) for _ in range(size)]\n",
    "\n",
    "        \n",
    "            start_time = time.perf_counter()  # Start timing\n",
    "            function(test_list)  # Execute the function\n",
    "            end_time = time.perf_counter()  # End timing\n",
    "\n",
    "            # Calculate the elapsed time and append to times list\n",
    "            elapsed_time = end_time - start_time\n",
    "            times.append(elapsed_time)\n",
    "\n",
    "        # Return the sizes and times\n",
    "        return sizes, times\n",
    "    \n",
    "\n",
    "    \n",
    "    algorithm = get_function_object(code_str)\n",
    "    buf, coefficients = get_graph(algorithm, input_type)\n",
    "    return buf, coefficients\n",
    "\n"
   ]
  },
  {
   "cell_type": "code",
   "execution_count": 26,
   "metadata": {},
   "outputs": [],
   "source": [
    "def save_algorithm_output(code_str, input_type, complexity_type, repeat):\n",
    "    # Ensure the directory exists\n",
    "    images_dir = f'images/{complexity_type}'\n",
    "    os.makedirs(images_dir, exist_ok=True)  # Creates the directory if it doesn't exist\n",
    "    \n",
    "    csv_path = 'features.csv'\n",
    "    \n",
    "    # Initialize a DataFrame to collect all coefficients and file paths\n",
    "    all_coefficients = pd.DataFrame()\n",
    "    \n",
    "    # Process and save each output\n",
    "    for i in range(repeat):\n",
    "        image_bytes, coefficients = algorithm_analyze(code_str, input_type)\n",
    "        \n",
    "        # Create a unique timestamp\n",
    "        timestamp = datetime.now().strftime('%Y%m%d%H%M%S%f')\n",
    "        \n",
    "        # Save image with a unique timestamp in the filename\n",
    "        image_filename = f\"{images_dir}/image_{timestamp}.png\"\n",
    "        with open(image_filename, 'wb') as f:\n",
    "            f.write(image_bytes.getbuffer())\n",
    "        \n",
    "        # Convert coefficients to DataFrame, ensuring they're labeled correctly\n",
    "        # Here we dynamically create column names based on the length of coefficients list\n",
    "        coeff_columns = [f'Coeff_{j}' for j in range(len(coefficients))]\n",
    "        df = pd.DataFrame([coefficients], columns=coeff_columns)\n",
    "        df['ImageFile'] = image_filename  # Track image file name\n",
    "        \n",
    "        # Append the current row of coefficients to the all_coefficients DataFrame\n",
    "        all_coefficients = pd.concat([all_coefficients, df], ignore_index=True)\n",
    "    \n",
    "    # Save or append the coefficients data to CSV\n",
    "    if os.path.exists(csv_path):\n",
    "        all_coefficients.to_csv(csv_path, mode='a', header=False, index=False)\n",
    "    else:\n",
    "        all_coefficients.to_csv(csv_path, mode='w', index=False)\n",
    "\n",
    "    return all_coefficients  # Optional: return DataFrame for further processing or inspection\n",
    "\n",
    "# Example call (You need to define or adjust `algorithm_analyze` as per your actual implementation)\n",
    "# save_algorithm_output('some_code_str', 'type1', 'simple', 10)\n"
   ]
  },
  {
   "cell_type": "code",
   "execution_count": 27,
   "metadata": {},
   "outputs": [],
   "source": [
    "def clean_images():\n",
    "    directory= 'images'\n",
    "    # Loop through all items in the directory\n",
    "    for filename in os.listdir(directory):\n",
    "        file_path = os.path.join(directory, filename)\n",
    "        try:\n",
    "            # If it's a file or directory, remove it\n",
    "            if os.path.isfile(file_path) or os.path.islink(file_path):\n",
    "                os.remove(file_path)  # Remove the file\n",
    "            elif os.path.isdir(file_path):\n",
    "                shutil.rmtree(file_path)  # Remove the directory and its contents\n",
    "        except Exception as e:\n",
    "            print(f\"Error deleting {file_path}: {e}\")\n",
    "\n",
    "def clear_csv_file():\n",
    "    file_path = 'features.csv'\n",
    "    # Open the file in write mode which will truncate the file (set it to empty)\n",
    "    with open(file_path, 'w', newline='') as csv_file:\n",
    "        pass\n",
    "\n",
    "\n",
    "\n",
    "\n"
   ]
  },
  {
   "cell_type": "code",
   "execution_count": 86,
   "metadata": {},
   "outputs": [],
   "source": [
    "function_x = \"\"\"\n",
    "def quicksort(arr):\n",
    "    if len(arr) <= 1:\n",
    "        return arr\n",
    "    pivot = arr[len(arr) // 2]\n",
    "    left = [x for x in arr if x < pivot]\n",
    "    middle = [x for x in arr if x == pivot]\n",
    "    right = [x for x in arr if x > pivot]\n",
    "    return quicksort(left) + middle + quicksort(right)\n",
    "\"\"\"\n",
    "\n",
    "func_type = 'const'\n",
    "\n"
   ]
  },
  {
   "cell_type": "markdown",
   "metadata": {},
   "source": [
    "## Diplay and generate data"
   ]
  },
  {
   "cell_type": "code",
   "execution_count": 87,
   "metadata": {},
   "outputs": [
    {
     "data": {
      "image/png": "[encoded data removed]",
      "text/plain": [
       "<PIL.PngImagePlugin.PngImageFile image mode=RGBA size=496x369>"
      ]
     },
     "metadata": {},
     "output_type": "display_data"
    },
    {
     "name": "stdout",
     "output_type": "stream",
     "text": [
      "Coefficients: [-4.7458829578358145e-15, 7.668111954845219e-12, -3.853771623606608e-09, 1.8296431416445543e-06, 5.197577658479997e-05]\n",
      "<class '_io.BytesIO'>\n"
     ]
    }
   ],
   "source": [
    "\n",
    "buf, coefficients = algorithm_analyze(function_x, 'list')\n",
    "image = Image.open(buf)\n",
    "\n",
    "# Display the image in the notebook\n",
    "display(image)\n",
    "print(\"Coefficients:\", coefficients)\n",
    "print(type(buf))"
   ]
  },
  {
   "cell_type": "markdown",
   "metadata": {},
   "source": [
    "## Generate and save data for training"
   ]
  },
  {
   "cell_type": "code",
   "execution_count": 30,
   "metadata": {},
   "outputs": [
    {
     "data": {
      "text/html": [
       "<div>\n",
       "<style scoped>\n",
       "    .dataframe tbody tr th:only-of-type {\n",
       "        vertical-align: middle;\n",
       "    }\n",
       "\n",
       "    .dataframe tbody tr th {\n",
       "        vertical-align: top;\n",
       "    }\n",
       "\n",
       "    .dataframe thead th {\n",
       "        text-align: right;\n",
       "    }\n",
       "</style>\n",
       "<table border=\"1\" class=\"dataframe\">\n",
       "  <thead>\n",
       "    <tr style=\"text-align: right;\">\n",
       "      <th></th>\n",
       "      <th>Coeff_0</th>\n",
       "      <th>Coeff_1</th>\n",
       "      <th>Coeff_2</th>\n",
       "      <th>Coeff_3</th>\n",
       "      <th>Coeff_4</th>\n",
       "      <th>ImageFile</th>\n",
       "    </tr>\n",
       "  </thead>\n",
       "  <tbody>\n",
       "    <tr>\n",
       "      <th>0</th>\n",
       "      <td>-6.284292e-15</td>\n",
       "      <td>8.350116e-12</td>\n",
       "      <td>-3.209977e-09</td>\n",
       "      <td>1.389220e-06</td>\n",
       "      <td>-0.000019</td>\n",
       "      <td>images/nlogn/image_20240914133053475463.png</td>\n",
       "    </tr>\n",
       "    <tr>\n",
       "      <th>1</th>\n",
       "      <td>1.625225e-14</td>\n",
       "      <td>-2.095603e-11</td>\n",
       "      <td>9.740417e-09</td>\n",
       "      <td>-6.284419e-07</td>\n",
       "      <td>0.000043</td>\n",
       "      <td>images/nlogn/image_20240914133054105766.png</td>\n",
       "    </tr>\n",
       "  </tbody>\n",
       "</table>\n",
       "</div>"
      ],
      "text/plain": [
       "        Coeff_0       Coeff_1       Coeff_2       Coeff_3   Coeff_4  \\\n",
       "0 -6.284292e-15  8.350116e-12 -3.209977e-09  1.389220e-06 -0.000019   \n",
       "1  1.625225e-14 -2.095603e-11  9.740417e-09 -6.284419e-07  0.000043   \n",
       "\n",
       "                                     ImageFile  \n",
       "0  images/nlogn/image_20240914133053475463.png  \n",
       "1  images/nlogn/image_20240914133054105766.png  "
      ]
     },
     "execution_count": 30,
     "metadata": {},
     "output_type": "execute_result"
    }
   ],
   "source": [
    "save_algorithm_output(function_x, 'list', func_type, 2)"
   ]
  },
  {
   "cell_type": "markdown",
   "metadata": {},
   "source": [
    "## Delete generated data"
   ]
  },
  {
   "cell_type": "code",
   "execution_count": 31,
   "metadata": {},
   "outputs": [],
   "source": [
    "clean_images()"
   ]
  },
  {
   "cell_type": "code",
   "execution_count": 32,
   "metadata": {},
   "outputs": [],
   "source": [
    "clear_csv_file()"
   ]
  }
 ],
 "metadata": {
  "kernelspec": {
   "display_name": "base",
   "language": "python",
   "name": "python3"
  },
  "language_info": {
   "codemirror_mode": {
    "name": "ipython",
    "version": 3
   },
   "file_extension": ".py",
   "mimetype": "text/x-python",
   "name": "python",
   "nbconvert_exporter": "python",
   "pygments_lexer": "ipython3",
   "version": "3.11.5"
  }
 },
 "nbformat": 4,
 "nbformat_minor": 2
}
