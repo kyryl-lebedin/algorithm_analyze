{
 "cells": [
  {
   "cell_type": "code",
   "execution_count": 1,
   "metadata": {},
   "outputs": [],
   "source": [
    "import matplotlib.pyplot as plt\n",
    "import numpy as np\n",
    "import pandas as pd\n",
    "import random\n",
    "import time\n",
    "from io import BytesIO\n",
    "from IPython.display import display\n",
    "import statsmodels.api as sm\n",
    "import os\n",
    "from datetime import datetime\n",
    "from PIL import Image\n",
    "import shutil\n",
    "import string\n",
    "from functions import functions "
   ]
  },
  {
   "cell_type": "code",
   "execution_count": 2,
   "metadata": {},
   "outputs": [],
   "source": [
    "def algorithm_analyze(code_str, input_type):\n",
    "\n",
    "    pol_degree = 4\n",
    "\n",
    "    def get_function_object(code_str):\n",
    "        local_scope = {}\n",
    "        \n",
    "        # Execute the function definon in a scope where it can recursively reference itself\n",
    "        exec(code_str, local_scope, local_scope)  # Using local_scope as both global and local scope\n",
    "        \n",
    "        func_name = next(key for key, value in local_scope.items() if callable(value))\n",
    "        algorithm = local_scope[func_name]\n",
    "        \n",
    "        return algorithm\n",
    "\n",
    "\n",
    "\n",
    "    def get_graph(function, input_type):\n",
    "        if input_type == 'array':\n",
    "            sizes, test_input = array_input()\n",
    "            \n",
    "        if input_type == 'matrix':\n",
    "            sizes, test_input = matrix_input()\n",
    "\n",
    "        if input_type == 'string with letters only':\n",
    "            sizes, test_input = letter_string_input()\n",
    "\n",
    "        if input_type == 'string with all characters':\n",
    "            sizes, test_input = all_string_input()\n",
    "\n",
    "        if input_type == 'plain graph matrix':\n",
    "            sizes, test_input = graph_matrix_input()\n",
    "            \n",
    "        times = measure_times(function, test_input)\n",
    "\n",
    "            # Fit a polynomial curve to the data\n",
    "        coefficients = np.polyfit(sizes, times, deg=pol_degree)  # Degree 4 polynomial\n",
    "        poly = np.poly1d(coefficients)\n",
    "\n",
    "        # Generate smooth data for the fitted curve\n",
    "        smooth_sizes = np.linspace(min(sizes), max(sizes), 500)  # Smooth sizes from min to max size\n",
    "        smooth_times = poly(smooth_sizes)  # Evaluate polynomial\n",
    "\n",
    "        plt.figure()\n",
    "        plt.plot(sizes, times, 'o', markersize=3, label='Original Data', color='white')  # Original data points\n",
    "        plt.plot(smooth_sizes, smooth_times, 'r-', label='Fitted Curve')  # Fitted curve\n",
    "        plt.axis('off')  # Hide the axes\n",
    "\n",
    "        # Save the plot to a BytesIO stream\n",
    "        buf = BytesIO()\n",
    "        plt.savefig(buf, format='png', bbox_inches='tight', pad_inches=0)\n",
    "        plt.close()  # Close the figure to free memory\n",
    "        buf.seek(0)  # Rewind your buffer\n",
    "        return buf, coefficients.tolist()\n",
    "    \n",
    "\n",
    "\n",
    "    def array_input(n_size=700, a_size=500):\n",
    "        sizes = list(range(1, n_size))\n",
    "        test_lists = []\n",
    "\n",
    "        for size in sizes:\n",
    "            test_list = [random.randint(0, a_size) for _ in range(size)]\n",
    "            test_lists.append(test_list)\n",
    "\n",
    "        return sizes, test_lists\n",
    "    \n",
    "    def matrix_input(n_size=500, a_size=200):\n",
    "        sizes = list(range(1, n_size))\n",
    "        test_matrices = []\n",
    "\n",
    "        for size in sizes:\n",
    "            test_matrix = [[random.randint(0, a_size) for _ in range(size)] for _ in range(size)]\n",
    "            test_matrices.append(test_matrix)\n",
    "        \n",
    "        return sizes, test_matrices\n",
    "    \n",
    "    def graph_matrix_input(n_size=500, a_size=1):\n",
    "        sizes = list(range(1, n_size))\n",
    "        test_matrices = []\n",
    "\n",
    "        for size in sizes:\n",
    "            test_matrix = [[random.randint(0, a_size) for _ in range(size)] for _ in range(size)]\n",
    "            test_matrices.append(test_matrix)\n",
    "        \n",
    "        return sizes, test_matrices\n",
    "    \n",
    "    def letter_string_input(n_size=5000):\n",
    "        sizes = list(range(1, n_size))\n",
    "        test_strings = []\n",
    "\n",
    "        for size in sizes:\n",
    "            test_string = ''.join([random.choice('abcdefghijklmnopqrstuvwxyz') for _ in range(size)])\n",
    "            test_strings.append(test_string)\n",
    "        \n",
    "        return sizes, test_strings\n",
    "    \n",
    "    def all_string_input(n_size=5000):\n",
    "        char_pool = string.ascii_letters + string.digits + string.punctuation\n",
    "        sizes = list(range(1, n_size))\n",
    "        test_strings = []\n",
    "\n",
    "        for size in sizes:\n",
    "            test_string = ''.join(random.choice(char_pool) for _ in range(size))\n",
    "            test_strings.append(test_string)\n",
    "\n",
    "        return sizes, test_strings\n",
    "\n",
    "    def measure_times(function, test_input):\n",
    "        times = []\n",
    "\n",
    "        for test_list in test_input:\n",
    "            start_time = time.perf_counter()\n",
    "            function(test_list)\n",
    "            end_time = time.perf_counter()\n",
    "\n",
    "            elapsed_time = end_time - start_time\n",
    "            times.append(elapsed_time)\n",
    "\n",
    "        return times\n",
    "\n",
    "    \n",
    "    algorithm = get_function_object(code_str)\n",
    "    buf, coefficients = get_graph(algorithm, input_type)\n",
    "    return buf, coefficients\n",
    "\n"
   ]
  },
  {
   "cell_type": "code",
   "execution_count": 3,
   "metadata": {},
   "outputs": [],
   "source": [
    "def save_algorithm_output(code_str, input_type, complexity_type, repeat):\n",
    "    # Ensure the directory exists\n",
    "    images_dir = f'images/{complexity_type}'\n",
    "    os.makedirs(images_dir, exist_ok=True)  # Creates the directory if it doesn't exist\n",
    "    \n",
    "    csv_path = 'features.csv'\n",
    "    \n",
    "    # Initialize a DataFrame to collect all coefficients and file paths\n",
    "    all_coefficients = pd.DataFrame()\n",
    "    \n",
    "    # Process and save each output\n",
    "    for i in range(repeat):\n",
    "        image_bytes, coefficients = algorithm_analyze(code_str, input_type)\n",
    "        \n",
    "        # Create a unique timestamp\n",
    "        timestamp = datetime.now().strftime('%Y%m%d%H%M%S%f')\n",
    "        \n",
    "        # Save image with a unique timestamp in the filename\n",
    "        image_filename = f\"{images_dir}/image_{timestamp}.png\"\n",
    "        with open(image_filename, 'wb') as f:\n",
    "            f.write(image_bytes.getbuffer())\n",
    "        \n",
    "        # Convert coefficients to DataFrame, ensuring they're labeled correctly\n",
    "        # Here we dynamically create column names based on the length of coefficients list\n",
    "        coeff_columns = [f'Coeff_{j}' for j in range(len(coefficients))]\n",
    "        df = pd.DataFrame([coefficients], columns=coeff_columns)\n",
    "        df['ImageFile'] = image_filename  # Track image file name\n",
    "        \n",
    "        # Append the current row of coefficients to the all_coefficients DataFrame\n",
    "        all_coefficients = pd.concat([all_coefficients, df], ignore_index=True)\n",
    "    \n",
    "    # Save or append the coefficients data to CSV\n",
    "    if os.path.exists(csv_path):\n",
    "        all_coefficients.to_csv(csv_path, mode='a', header=False, index=False)\n",
    "    else:\n",
    "        all_coefficients.to_csv(csv_path, mode='w', index=False)\n",
    "\n",
    "    return all_coefficients  # Optional: return DataFrame for further processing or inspection\n",
    "\n",
    "# Example call (You need to define or adjust `algorithm_analyze` as per your actual implementation)\n",
    "# save_algorithm_output('some_code_str', 'type1', 'simple', 10)\n"
   ]
  },
  {
   "cell_type": "code",
   "execution_count": 4,
   "metadata": {},
   "outputs": [],
   "source": [
    "def clean_images():\n",
    "    directory= 'images'\n",
    "    # Loop through all items in the directory\n",
    "    for filename in os.listdir(directory):\n",
    "        file_path = os.path.join(directory, filename)\n",
    "        try:\n",
    "            # If it's a file or directory, remove it\n",
    "            if os.path.isfile(file_path) or os.path.islink(file_path):\n",
    "                os.remove(file_path)  # Remove the file\n",
    "            elif os.path.isdir(file_path):\n",
    "                shutil.rmtree(file_path)  # Remove the directory and its contents\n",
    "        except Exception as e:\n",
    "            print(f\"Error deleting {file_path}: {e}\")\n",
    "\n",
    "def clear_csv_file():\n",
    "    file_path = 'features.csv'\n",
    "    # Open the file in write mode which will truncate the file (set it to empty)\n",
    "    with open(file_path, 'w', newline='') as csv_file:\n",
    "        pass\n",
    "\n",
    "\n",
    "\n",
    "\n"
   ]
  },
  {
   "cell_type": "code",
   "execution_count": 19,
   "metadata": {},
   "outputs": [
    {
     "data": {
      "text/plain": [
       "'\\n\\ndef heap_sort(arr):\\n    n = len(arr)\\n\\n    # Build max heap\\n    for i in range(n // 2 - 1, -1, -1):\\n        # Heapify in place without a helper function\\n        largest = i\\n        while True:\\n            left = 2 * largest + 1\\n            right = 2 * largest + 2\\n            new_largest = largest\\n\\n            if left < n and arr[left] > arr[new_largest]:\\n                new_largest = left\\n            if right < n and arr[right] > arr[new_largest]:\\n                new_largest = right\\n\\n            if new_largest == largest:\\n                break\\n\\n            arr[largest], arr[new_largest] = arr[new_largest], arr[largest]\\n            largest = new_largest\\n\\n    # Extract elements one by one\\n    for i in range(n-1, 0, -1):\\n        # Move current root to end\\n        arr[i], arr[0] = arr[0], arr[i]\\n\\n        # Heapify the reduced heap\\n        largest = 0\\n        while True:\\n            left = 2 * largest + 1\\n            right = 2 * largest + 2\\n            new_largest = largest\\n\\n            if left < i and arr[left] > arr[new_largest]:\\n                new_largest = left\\n            if right < i and arr[right] > arr[new_largest]:\\n                new_largest = right\\n\\n            if new_largest == largest:\\n                break\\n\\n            arr[largest], arr[new_largest] = arr[new_largest], arr[largest]\\n            largest = new_largest\\n'"
      ]
     },
     "execution_count": 19,
     "metadata": {},
     "output_type": "execute_result"
    }
   ],
   "source": [
    "func_type = 'nlog(n)'\n",
    "input_type = 'array'\n",
    "index = 2\n",
    "function_x = functions[func_type][input_type][index]\n",
    "function_x\n",
    "\n"
   ]
  },
  {
   "cell_type": "markdown",
   "metadata": {},
   "source": [
    "## Diplay and generate data"
   ]
  },
  {
   "cell_type": "code",
   "execution_count": 21,
   "metadata": {},
   "outputs": [
    {
     "data": {
      "image/png": "[encoded data removed]",
      "text/plain": [
       "<PIL.PngImagePlugin.PngImageFile image mode=RGBA size=496x369>"
      ]
     },
     "metadata": {},
     "output_type": "display_data"
    },
    {
     "name": "stdout",
     "output_type": "stream",
     "text": [
      "Coefficients: [-6.096917141011129e-15, 9.270596850828062e-12, -4.013091498900102e-09, 1.6014253225627013e-06, -1.8905559307269044e-05]\n",
      "<class '_io.BytesIO'>\n"
     ]
    }
   ],
   "source": [
    "buf, coefficients = algorithm_analyze(function_x, input_type)\n",
    "image = Image.open(buf)\n",
    "\n",
    "# Display the image in the notebook\n",
    "display(image)\n",
    "print(\"Coefficients:\", coefficients)\n",
    "print(type(buf))"
   ]
  },
  {
   "cell_type": "code",
   "execution_count": null,
   "metadata": {},
   "outputs": [],
   "source": []
  },
  {
   "cell_type": "markdown",
   "metadata": {},
   "source": [
    "## Generate and save data for training"
   ]
  },
  {
   "cell_type": "code",
   "execution_count": 35,
   "metadata": {},
   "outputs": [
    {
     "data": {
      "text/html": [
       "<div>\n",
       "<style scoped>\n",
       "    .dataframe tbody tr th:only-of-type {\n",
       "        vertical-align: middle;\n",
       "    }\n",
       "\n",
       "    .dataframe tbody tr th {\n",
       "        vertical-align: top;\n",
       "    }\n",
       "\n",
       "    .dataframe thead th {\n",
       "        text-align: right;\n",
       "    }\n",
       "</style>\n",
       "<table border=\"1\" class=\"dataframe\">\n",
       "  <thead>\n",
       "    <tr style=\"text-align: right;\">\n",
       "      <th></th>\n",
       "      <th>Coeff_0</th>\n",
       "      <th>Coeff_1</th>\n",
       "      <th>Coeff_2</th>\n",
       "      <th>Coeff_3</th>\n",
       "      <th>Coeff_4</th>\n",
       "      <th>ImageFile</th>\n",
       "    </tr>\n",
       "  </thead>\n",
       "  <tbody>\n",
       "    <tr>\n",
       "      <th>0</th>\n",
       "      <td>1.558984e-17</td>\n",
       "      <td>-2.482618e-14</td>\n",
       "      <td>1.359423e-11</td>\n",
       "      <td>-2.990295e-09</td>\n",
       "      <td>3.879827e-07</td>\n",
       "      <td>images/constant/image_20240914235833022729.png</td>\n",
       "    </tr>\n",
       "  </tbody>\n",
       "</table>\n",
       "</div>"
      ],
      "text/plain": [
       "        Coeff_0       Coeff_1       Coeff_2       Coeff_3       Coeff_4  \\\n",
       "0  1.558984e-17 -2.482618e-14  1.359423e-11 -2.990295e-09  3.879827e-07   \n",
       "\n",
       "                                        ImageFile  \n",
       "0  images/constant/image_20240914235833022729.png  "
      ]
     },
     "execution_count": 35,
     "metadata": {},
     "output_type": "execute_result"
    }
   ],
   "source": [
    "save_algorithm_output(function_x, 'array', func_type,  1)"
   ]
  },
  {
   "cell_type": "markdown",
   "metadata": {},
   "source": [
    "## Delete generated data"
   ]
  },
  {
   "cell_type": "code",
   "execution_count": 33,
   "metadata": {},
   "outputs": [],
   "source": [
    "clean_images()"
   ]
  },
  {
   "cell_type": "code",
   "execution_count": 34,
   "metadata": {},
   "outputs": [],
   "source": [
    "clear_csv_file()"
   ]
  },
  {
   "cell_type": "markdown",
   "metadata": {},
   "source": [
    "## Generate 1000 data units"
   ]
  },
  {
   "cell_type": "code",
   "execution_count": 36,
   "metadata": {},
   "outputs": [
    {
     "ename": "KeyboardInterrupt",
     "evalue": "",
     "output_type": "error",
     "traceback": [
      "\u001b[1;31m---------------------------------------------------------------------------\u001b[0m",
      "\u001b[1;31mKeyboardInterrupt\u001b[0m                         Traceback (most recent call last)",
      "Cell \u001b[1;32mIn[36], line 4\u001b[0m\n\u001b[0;32m      2\u001b[0m \u001b[38;5;28;01mfor\u001b[39;00m input_type \u001b[38;5;129;01min\u001b[39;00m functions[func_type]:\n\u001b[0;32m      3\u001b[0m     \u001b[38;5;28;01mfor\u001b[39;00m function_x \u001b[38;5;129;01min\u001b[39;00m functions[func_type][input_type]:\n\u001b[1;32m----> 4\u001b[0m         save_algorithm_output(function_x, input_type, func_type, \u001b[38;5;241m1\u001b[39m)\n",
      "Cell \u001b[1;32mIn[3], line 13\u001b[0m, in \u001b[0;36msave_algorithm_output\u001b[1;34m(code_str, input_type, complexity_type, repeat)\u001b[0m\n\u001b[0;32m     11\u001b[0m \u001b[38;5;66;03m# Process and save each output\u001b[39;00m\n\u001b[0;32m     12\u001b[0m \u001b[38;5;28;01mfor\u001b[39;00m i \u001b[38;5;129;01min\u001b[39;00m \u001b[38;5;28mrange\u001b[39m(repeat):\n\u001b[1;32m---> 13\u001b[0m     image_bytes, coefficients \u001b[38;5;241m=\u001b[39m algorithm_analyze(code_str, input_type)\n\u001b[0;32m     15\u001b[0m     \u001b[38;5;66;03m# Create a unique timestamp\u001b[39;00m\n\u001b[0;32m     16\u001b[0m     timestamp \u001b[38;5;241m=\u001b[39m datetime\u001b[38;5;241m.\u001b[39mnow()\u001b[38;5;241m.\u001b[39mstrftime(\u001b[38;5;124m'\u001b[39m\u001b[38;5;124m%\u001b[39m\u001b[38;5;124mY\u001b[39m\u001b[38;5;124m%\u001b[39m\u001b[38;5;124mm\u001b[39m\u001b[38;5;132;01m%d\u001b[39;00m\u001b[38;5;124m%\u001b[39m\u001b[38;5;124mH\u001b[39m\u001b[38;5;124m%\u001b[39m\u001b[38;5;124mM\u001b[39m\u001b[38;5;124m%\u001b[39m\u001b[38;5;124mS\u001b[39m\u001b[38;5;132;01m%f\u001b[39;00m\u001b[38;5;124m'\u001b[39m)\n",
      "Cell \u001b[1;32mIn[2], line 124\u001b[0m, in \u001b[0;36malgorithm_analyze\u001b[1;34m(code_str, input_type)\u001b[0m\n\u001b[0;32m    120\u001b[0m     \u001b[38;5;28;01mreturn\u001b[39;00m times\n\u001b[0;32m    123\u001b[0m algorithm \u001b[38;5;241m=\u001b[39m get_function_object(code_str)\n\u001b[1;32m--> 124\u001b[0m buf, coefficients \u001b[38;5;241m=\u001b[39m get_graph(algorithm, input_type)\n\u001b[0;32m    125\u001b[0m \u001b[38;5;28;01mreturn\u001b[39;00m buf, coefficients\n",
      "Cell \u001b[1;32mIn[2], line 26\u001b[0m, in \u001b[0;36malgorithm_analyze.<locals>.get_graph\u001b[1;34m(function, input_type)\u001b[0m\n\u001b[0;32m     23\u001b[0m     sizes, test_input \u001b[38;5;241m=\u001b[39m matrix_input()\n\u001b[0;32m     25\u001b[0m \u001b[38;5;28;01mif\u001b[39;00m input_type \u001b[38;5;241m==\u001b[39m \u001b[38;5;124m'\u001b[39m\u001b[38;5;124mstring with letters only\u001b[39m\u001b[38;5;124m'\u001b[39m:\n\u001b[1;32m---> 26\u001b[0m     sizes, test_input \u001b[38;5;241m=\u001b[39m letter_string_input()\n\u001b[0;32m     28\u001b[0m \u001b[38;5;28;01mif\u001b[39;00m input_type \u001b[38;5;241m==\u001b[39m \u001b[38;5;124m'\u001b[39m\u001b[38;5;124mstring with all characters\u001b[39m\u001b[38;5;124m'\u001b[39m:\n\u001b[0;32m     29\u001b[0m     sizes, test_input \u001b[38;5;241m=\u001b[39m all_string_input()\n",
      "Cell \u001b[1;32mIn[2], line 93\u001b[0m, in \u001b[0;36malgorithm_analyze.<locals>.letter_string_input\u001b[1;34m(n_size)\u001b[0m\n\u001b[0;32m     90\u001b[0m test_strings \u001b[38;5;241m=\u001b[39m []\n\u001b[0;32m     92\u001b[0m \u001b[38;5;28;01mfor\u001b[39;00m size \u001b[38;5;129;01min\u001b[39;00m sizes:\n\u001b[1;32m---> 93\u001b[0m     test_string \u001b[38;5;241m=\u001b[39m \u001b[38;5;124m'\u001b[39m\u001b[38;5;124m'\u001b[39m\u001b[38;5;241m.\u001b[39mjoin([random\u001b[38;5;241m.\u001b[39mchoice(\u001b[38;5;124m'\u001b[39m\u001b[38;5;124mabcdefghijklmnopqrstuvwxyz\u001b[39m\u001b[38;5;124m'\u001b[39m) \u001b[38;5;28;01mfor\u001b[39;00m _ \u001b[38;5;129;01min\u001b[39;00m \u001b[38;5;28mrange\u001b[39m(size)])\n\u001b[0;32m     94\u001b[0m     test_strings\u001b[38;5;241m.\u001b[39mappend(test_string)\n\u001b[0;32m     96\u001b[0m \u001b[38;5;28;01mreturn\u001b[39;00m sizes, test_strings\n",
      "Cell \u001b[1;32mIn[2], line 93\u001b[0m, in \u001b[0;36m<listcomp>\u001b[1;34m(.0)\u001b[0m\n\u001b[0;32m     90\u001b[0m test_strings \u001b[38;5;241m=\u001b[39m []\n\u001b[0;32m     92\u001b[0m \u001b[38;5;28;01mfor\u001b[39;00m size \u001b[38;5;129;01min\u001b[39;00m sizes:\n\u001b[1;32m---> 93\u001b[0m     test_string \u001b[38;5;241m=\u001b[39m \u001b[38;5;124m'\u001b[39m\u001b[38;5;124m'\u001b[39m\u001b[38;5;241m.\u001b[39mjoin([random\u001b[38;5;241m.\u001b[39mchoice(\u001b[38;5;124m'\u001b[39m\u001b[38;5;124mabcdefghijklmnopqrstuvwxyz\u001b[39m\u001b[38;5;124m'\u001b[39m) \u001b[38;5;28;01mfor\u001b[39;00m _ \u001b[38;5;129;01min\u001b[39;00m \u001b[38;5;28mrange\u001b[39m(size)])\n\u001b[0;32m     94\u001b[0m     test_strings\u001b[38;5;241m.\u001b[39mappend(test_string)\n\u001b[0;32m     96\u001b[0m \u001b[38;5;28;01mreturn\u001b[39;00m sizes, test_strings\n",
      "File \u001b[1;32mc:\\Users\\deryl\\anaconda3\\Lib\\random.py:367\u001b[0m, in \u001b[0;36mRandom.choice\u001b[1;34m(self, seq)\u001b[0m\n\u001b[0;32m    362\u001b[0m     \u001b[38;5;28;01mreturn\u001b[39;00m \u001b[38;5;28mself\u001b[39m\u001b[38;5;241m.\u001b[39mrandrange(a, b\u001b[38;5;241m+\u001b[39m\u001b[38;5;241m1\u001b[39m)\n\u001b[0;32m    365\u001b[0m \u001b[38;5;66;03m## -------------------- sequence methods  -------------------\u001b[39;00m\n\u001b[1;32m--> 367\u001b[0m \u001b[38;5;28;01mdef\u001b[39;00m \u001b[38;5;21mchoice\u001b[39m(\u001b[38;5;28mself\u001b[39m, seq):\n\u001b[0;32m    368\u001b[0m \u001b[38;5;250m    \u001b[39m\u001b[38;5;124;03m\"\"\"Choose a random element from a non-empty sequence.\"\"\"\u001b[39;00m\n\u001b[0;32m    370\u001b[0m     \u001b[38;5;66;03m# As an accommodation for NumPy, we don't use \"if not seq\"\u001b[39;00m\n\u001b[0;32m    371\u001b[0m     \u001b[38;5;66;03m# because bool(numpy.array()) raises a ValueError.\u001b[39;00m\n",
      "\u001b[1;31mKeyboardInterrupt\u001b[0m: "
     ]
    }
   ],
   "source": [
    "for func_type in functions:\n",
    "    for input_type in functions[func_type]:\n",
    "        for function_x in functions[func_type][input_type]:\n",
    "            save_algorithm_output(function_x, input_type, func_type, 1)\n",
    "\n",
    "        "
   ]
  }
 ],
 "metadata": {
  "kernelspec": {
   "display_name": "base",
   "language": "python",
   "name": "python3"
  },
  "language_info": {
   "codemirror_mode": {
    "name": "ipython",
    "version": 3
   },
   "file_extension": ".py",
   "mimetype": "text/x-python",
   "name": "python",
   "nbconvert_exporter": "python",
   "pygments_lexer": "ipython3",
   "version": "3.11.5"
  }
 },
 "nbformat": 4,
 "nbformat_minor": 2
}
