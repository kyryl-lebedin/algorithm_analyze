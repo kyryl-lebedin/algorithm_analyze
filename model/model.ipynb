{
 "cells": [
  {
   "cell_type": "code",
   "execution_count": 1,
   "metadata": {},
   "outputs": [],
   "source": [
    "import matplotlib.pyplot as plt\n",
    "import numpy as np\n",
    "import pandas as pd\n",
    "import random\n",
    "import time\n",
    "from io import BytesIO\n",
    "from IPython.display import display\n",
    "import statsmodels.api as sm\n",
    "import os\n",
    "from datetime import datetime\n",
    "from PIL import Image\n",
    "import shutil\n",
    "import string\n",
    "from functions import functions \n",
    "from sklearn.model_selection import train_test_split\n",
    "from sklearn.preprocessing import StandardScaler, LabelEncoder, MinMaxScaler, normalize\n",
    "from sklearn.linear_model import LogisticRegression\n",
    "from sklearn.metrics import classification_report, accuracy_score\n",
    "import joblib\n",
    "from sklearn.ensemble import RandomForestClassifier\n"
   ]
  },
  {
   "cell_type": "code",
   "execution_count": 2,
   "metadata": {},
   "outputs": [],
   "source": [
    "def algorithm_analyze(code_str, input_type):\n",
    "\n",
    "    pol_degree = 3\n",
    "\n",
    "    def get_function_object(code_str):\n",
    "        local_scope = {}\n",
    "        \n",
    "        # Execute the function definon in a scope where it can recursively reference itself\n",
    "        exec(code_str, local_scope, local_scope)  # Using local_scope as both global and local scope\n",
    "        \n",
    "        func_name = next(key for key, value in local_scope.items() if callable(value))\n",
    "        algorithm = local_scope[func_name]\n",
    "        \n",
    "        return algorithm\n",
    "\n",
    "\n",
    "\n",
    "    def get_graph(function, input_type):\n",
    "        if input_type == 'array':\n",
    "            sizes, test_input = array_input()\n",
    "            \n",
    "        if input_type == 'matrix':\n",
    "            sizes, test_input = matrix_input()\n",
    "\n",
    "        if input_type == 'string with letters only':\n",
    "            sizes, test_input = letter_string_input()\n",
    "\n",
    "        if input_type == 'string with all characters':\n",
    "            sizes, test_input = all_string_input()\n",
    "\n",
    "        if input_type == 'plain graph matrix':\n",
    "            sizes, test_input = graph_matrix_input()\n",
    "            \n",
    "        times = measure_times(function, test_input)\n",
    "\n",
    "            # Fit a polynomial curve to the data\n",
    "        coefficients = np.polyfit(sizes, times, deg=pol_degree)  # Degree 4 polynomial\n",
    "        poly = np.poly1d(coefficients)\n",
    "\n",
    "        # Generate smooth data for the fitted curve\n",
    "        smooth_sizes = np.linspace(min(sizes), max(sizes), 500)  # Smooth sizes from min to max size\n",
    "        smooth_times = poly(smooth_sizes)  # Evaluate polynomial\n",
    "\n",
    "        plt.figure()\n",
    "        plt.plot(sizes, times, 'o', markersize=3, label='Original Data', color='white')  # Original data points\n",
    "        plt.plot(smooth_sizes, smooth_times, 'r-', label='Fitted Curve')  # Fitted curve\n",
    "        plt.axis('off')  # Hide the axes\n",
    "\n",
    "        # Save the plot to a BytesIO stream\n",
    "        buf = BytesIO()\n",
    "        plt.savefig(buf, format='png', bbox_inches='tight', pad_inches=0)\n",
    "        plt.close()  # Close the figure to free memory\n",
    "        buf.seek(0)  # Rewind your buffer\n",
    "        return buf, coefficients.tolist()\n",
    "    \n",
    "\n",
    "\n",
    "    def array_input(n_size=700, a_size=500):\n",
    "        sizes = list(range(1, n_size))\n",
    "        test_lists = []\n",
    "\n",
    "        for size in sizes:\n",
    "            test_list = [random.randint(0, a_size) for _ in range(size)]\n",
    "            test_lists.append(test_list)\n",
    "\n",
    "        return sizes, test_lists\n",
    "    \n",
    "    def matrix_input(n_size=500, a_size=200):\n",
    "        sizes = list(range(1, n_size))\n",
    "        test_matrices = []\n",
    "\n",
    "        for size in sizes:\n",
    "            test_matrix = [[random.randint(0, a_size) for _ in range(size)] for _ in range(size)]\n",
    "            test_matrices.append(test_matrix)\n",
    "        \n",
    "        return sizes, test_matrices\n",
    "    \n",
    "    def graph_matrix_input(n_size=500, a_size=1):\n",
    "        sizes = list(range(1, n_size))\n",
    "        test_matrices = []\n",
    "\n",
    "        for size in sizes:\n",
    "            test_matrix = [[random.randint(0, a_size) for _ in range(size)] for _ in range(size)]\n",
    "            test_matrices.append(test_matrix)\n",
    "        \n",
    "        return sizes, test_matrices\n",
    "    \n",
    "    def letter_string_input(n_size=5000):\n",
    "        sizes = list(range(1, n_size))\n",
    "        test_strings = []\n",
    "\n",
    "        for size in sizes:\n",
    "            test_string = ''.join([random.choice('abcdefghijklmnopqrstuvwxyz') for _ in range(size)])\n",
    "            test_strings.append(test_string)\n",
    "        \n",
    "        return sizes, test_strings\n",
    "    \n",
    "    def all_string_input(n_size=5000):\n",
    "        char_pool = string.ascii_letters + string.digits + string.punctuation\n",
    "        sizes = list(range(1, n_size))\n",
    "        test_strings = []\n",
    "\n",
    "        for size in sizes:\n",
    "            test_string = ''.join(random.choice(char_pool) for _ in range(size))\n",
    "            test_strings.append(test_string)\n",
    "\n",
    "        return sizes, test_strings\n",
    "\n",
    "    def measure_times(function, test_input):\n",
    "        times = []\n",
    "\n",
    "        for test_list in test_input:\n",
    "            start_time = time.perf_counter()\n",
    "            function(test_list)\n",
    "            end_time = time.perf_counter()\n",
    "\n",
    "            elapsed_time = end_time - start_time\n",
    "            times.append(elapsed_time)\n",
    "\n",
    "        return times\n",
    "\n",
    "    \n",
    "    algorithm = get_function_object(code_str)\n",
    "    buf, coefficients = get_graph(algorithm, input_type)\n",
    "    return buf, coefficients\n",
    "\n"
   ]
  },
  {
   "cell_type": "code",
   "execution_count": 3,
   "metadata": {},
   "outputs": [],
   "source": [
    "def algorithm_analyze_no_img(code_str, input_type):\n",
    "\n",
    "    pol_degree = 3\n",
    "\n",
    "    def get_function_object(code_str):\n",
    "        local_scope = {}\n",
    "        \n",
    "        # Execute the function definon in a scope where it can recursively reference itself\n",
    "        exec(code_str, local_scope, local_scope)  # Using local_scope as both global and local scope\n",
    "        \n",
    "        func_name = next(key for key, value in local_scope.items() if callable(value))\n",
    "        algorithm = local_scope[func_name]\n",
    "        \n",
    "        return algorithm\n",
    "\n",
    "\n",
    "\n",
    "    def get_graph(function, input_type):\n",
    "        if input_type == 'array':\n",
    "            sizes, test_input = array_input()\n",
    "            \n",
    "        if input_type == 'matrix':\n",
    "            sizes, test_input = matrix_input()\n",
    "\n",
    "        if input_type == 'string with letters only':\n",
    "            sizes, test_input = letter_string_input()\n",
    "\n",
    "        if input_type == 'string with all characters':\n",
    "            sizes, test_input = all_string_input()\n",
    "\n",
    "        if input_type == 'plain graph matrix':\n",
    "            sizes, test_input = graph_matrix_input()\n",
    "            \n",
    "        times = measure_times(function, test_input)\n",
    "\n",
    "            # Fit a polynomial curve to the data\n",
    "        coefficients = np.polyfit(sizes, times, deg=pol_degree)  # Degree 4 polynomial\n",
    "    \n",
    "        return coefficients.tolist()\n",
    "    \n",
    "\n",
    "\n",
    "    def array_input(n_size=900, a_size=200):\n",
    "        sizes = list(range(1, n_size))\n",
    "        test_lists = []\n",
    "\n",
    "        for size in sizes:\n",
    "            test_list = [random.randint(0, a_size) for _ in range(size)]\n",
    "            test_lists.append(test_list)\n",
    "\n",
    "        return sizes, test_lists\n",
    "    \n",
    "    def matrix_input(n_size=500, a_size=200):\n",
    "        sizes = list(range(1, n_size))\n",
    "        test_matrices = []\n",
    "\n",
    "        for size in sizes:\n",
    "            test_matrix = [[random.randint(0, a_size) for _ in range(size)] for _ in range(size)]\n",
    "            test_matrices.append(test_matrix)\n",
    "        \n",
    "        return sizes, test_matrices\n",
    "    \n",
    "    def graph_matrix_input(n_size=500, a_size=1):\n",
    "        sizes = list(range(1, n_size))\n",
    "        test_matrices = []\n",
    "\n",
    "        for size in sizes:\n",
    "            test_matrix = [[random.randint(0, a_size) for _ in range(size)] for _ in range(size)]\n",
    "            test_matrices.append(test_matrix)\n",
    "        \n",
    "        return sizes, test_matrices\n",
    "    \n",
    "    def letter_string_input(n_size=5000):\n",
    "        sizes = list(range(1, n_size))\n",
    "        test_strings = []\n",
    "\n",
    "        for size in sizes:\n",
    "            test_string = ''.join([random.choice('abcdefghijklmnopqrstuvwxyz') for _ in range(size)])\n",
    "            test_strings.append(test_string)\n",
    "        \n",
    "        return sizes, test_strings\n",
    "    \n",
    "    def all_string_input(n_size=5000):\n",
    "        char_pool = string.ascii_letters + string.digits + string.punctuation\n",
    "        sizes = list(range(1, n_size))\n",
    "        test_strings = []\n",
    "\n",
    "        for size in sizes:\n",
    "            test_string = ''.join(random.choice(char_pool) for _ in range(size))\n",
    "            test_strings.append(test_string)\n",
    "\n",
    "        return sizes, test_strings\n",
    "\n",
    "    def measure_times(function, test_input):\n",
    "        times = []\n",
    "\n",
    "        for test_list in test_input:\n",
    "            start_time = time.perf_counter()\n",
    "            function(test_list)\n",
    "            end_time = time.perf_counter()\n",
    "\n",
    "            elapsed_time = end_time - start_time\n",
    "            times.append(elapsed_time)\n",
    "\n",
    "        return times\n",
    "\n",
    "    \n",
    "    algorithm = get_function_object(code_str)\n",
    "    coefficients = get_graph(algorithm, input_type)\n",
    "    return coefficients\n",
    "\n"
   ]
  },
  {
   "cell_type": "code",
   "execution_count": 4,
   "metadata": {},
   "outputs": [],
   "source": [
    "def save_algorithm_output(code_str, input_type, complexity_type, repeat):\n",
    "    # Ensure the directory exists\n",
    "    images_dir = f'images3/{complexity_type}'\n",
    "    os.makedirs(images_dir, exist_ok=True)  # Creates the directory if it doesn't exist\n",
    "    \n",
    "    csv_path = 'features3.csv'\n",
    "    \n",
    "    # Initialize a DataFrame to collect all coefficients and file paths\n",
    "    all_coefficients = pd.DataFrame()\n",
    "    \n",
    "    # Process and save each output\n",
    "    for i in range(repeat):\n",
    "        image_bytes, coefficients = algorithm_analyze(code_str, input_type)\n",
    "        \n",
    "        # Create a unique timestamp\n",
    "        timestamp = datetime.now().strftime('%Y%m%d%H%M%S%f')\n",
    "        \n",
    "        # Save image with a unique timestamp in the filename\n",
    "        image_filename = f\"{images_dir}/image_{timestamp}.png\"\n",
    "        with open(image_filename, 'wb') as f:\n",
    "            f.write(image_bytes.getbuffer())\n",
    "        \n",
    "        # Convert coefficients to DataFrame, ensuring they're labeled correctly\n",
    "        # Here we dynamically create column names based on the length of coefficients list\n",
    "        coeff_columns = [f'Coeff_{j}' for j in range(len(coefficients))]\n",
    "        df = pd.DataFrame([coefficients], columns=coeff_columns)\n",
    "        df['ImageFile'] = image_filename  # Track image file name\n",
    "        \n",
    "        df['Complexity_Type'] = complexity_type\n",
    "        # Append the current row of coefficients to the all_coefficients DataFrame\n",
    "        all_coefficients = pd.concat([all_coefficients, df], ignore_index=True)\n",
    "    \n",
    "    # Save or append the coefficients data to CSV\n",
    "    if os.path.exists(csv_path):\n",
    "        all_coefficients.to_csv(csv_path, mode='a', header=False, index=False)\n",
    "    else:\n",
    "        all_coefficients.to_csv(csv_path, mode='w', index=False)\n",
    "\n",
    "    return all_coefficients  # Optional: return DataFrame for further processing or inspection\n",
    "\n",
    "# Example call (You need to define or adjust `algorithm_analyze` as per your actual implementation)\n",
    "# save_algorithm_output('some_code_str', 'type1', 'simple', 10)\n"
   ]
  },
  {
   "cell_type": "code",
   "execution_count": 5,
   "metadata": {},
   "outputs": [],
   "source": [
    "def save_algorithm_output_no_img(code_str, input_type, complexity_type, repeat):\n",
    "    csv_path = 'features.csv'\n",
    "    \n",
    "    # Initialize a DataFrame to collect all coefficients, complexity types, and file paths\n",
    "    all_coefficients = pd.DataFrame()\n",
    "    \n",
    "    # Process and save each output\n",
    "    for i in range(repeat):\n",
    "        coefficients = algorithm_analyze_no_img(code_str, input_type)\n",
    "        \n",
    "        # Convert coefficients to DataFrame, ensuring they're labeled correctly\n",
    "        # Here we dynamically create column names based on the length of coefficients list\n",
    "        coeff_columns = [f'Coeff_{j}' for j in range(len(coefficients))]\n",
    "        df = pd.DataFrame([coefficients], columns=coeff_columns)\n",
    "        \n",
    "        # Add complexity type to each row in the DataFrame\n",
    "        df['Complexity_Type'] = complexity_type\n",
    "        \n",
    "        # Append the current row of coefficients and complexity type to the all_coefficients DataFrame\n",
    "        all_coefficients = pd.concat([all_coefficients, df], ignore_index=True)\n",
    "    \n",
    "    # Save or append the coefficients data to CSV\n",
    "    if os.path.exists(csv_path):\n",
    "        all_coefficients.to_csv(csv_path, mode='a', header=False, index=False)\n",
    "    else:\n",
    "        all_coefficients.to_csv(csv_path, mode='w', index=False)\n",
    "\n",
    "    return all_coefficients  # Optional: return DataFrame for further processing or inspection\n",
    "\n",
    "# Example call (You need to define or adjust `algorithm_analyze` as per your actual implementation)\n",
    "# save_algorithm_output_no_img('some_code_str', 'type1', 'simple', 10)\n"
   ]
  },
  {
   "cell_type": "code",
   "execution_count": 6,
   "metadata": {},
   "outputs": [],
   "source": [
    "def clean_images():\n",
    "    directory= 'images3'\n",
    "    # Loop through all items in the directory\n",
    "    for filename in os.listdir(directory):\n",
    "        file_path = os.path.join(directory, filename)\n",
    "        try:\n",
    "            # If it's a file or directory, remove it\n",
    "            if os.path.isfile(file_path) or os.path.islink(file_path):\n",
    "                os.remove(file_path)  # Remove the file\n",
    "            elif os.path.isdir(file_path):\n",
    "                shutil.rmtree(file_path)  # Remove the directory and its contents\n",
    "        except Exception as e:\n",
    "            print(f\"Error deleting {file_path}: {e}\")\n",
    "\n",
    "def clear_csv_file():\n",
    "    file_path = 'features3.csv'\n",
    "    # Open the file in write mode which will truncate the file (set it to empty)\n",
    "    with open(file_path, 'w', newline='') as csv_file:\n",
    "        pass"
   ]
  },
  {
   "cell_type": "code",
   "execution_count": 7,
   "metadata": {},
   "outputs": [
    {
     "data": {
      "text/plain": [
       "'\\ndef constant_function1(arr):\\n    return 42\\n'"
      ]
     },
     "execution_count": 7,
     "metadata": {},
     "output_type": "execute_result"
    }
   ],
   "source": [
    "func_type = 'constant'\n",
    "input_type = 'array'\n",
    "index = 0\n",
    "function_x = functions[func_type][input_type][index]\n",
    "function_x\n",
    "\n"
   ]
  },
  {
   "cell_type": "code",
   "execution_count": 8,
   "metadata": {},
   "outputs": [],
   "source": [
    "function_x = \"\"\"\n",
    "def bubble_sort(arr):\n",
    "    n = len(arr)\n",
    "    for i in range(n):\n",
    "        for j in range(0, n-i-1):\n",
    "            if arr[j] > arr[j+1]:\n",
    "                arr[j], arr[j+1] = arr[j+1], arr[j]\n",
    "    return arr\n",
    "\"\"\""
   ]
  },
  {
   "cell_type": "markdown",
   "metadata": {},
   "source": [
    "## Diplay and generate data"
   ]
  },
  {
   "cell_type": "code",
   "execution_count": 9,
   "metadata": {},
   "outputs": [
    {
     "data": {
      "image/png": "[encoded data removed]",
      "text/plain": [
       "<PIL.PngImagePlugin.PngImageFile image mode=RGBA size=496x369>"
      ]
     },
     "metadata": {},
     "output_type": "display_data"
    },
    {
     "name": "stdout",
     "output_type": "stream",
     "text": [
      "Coefficients: [-6.440937950205253e-12, 3.899268860640667e-08, -7.331151012423565e-07, -7.425382274221494e-05]\n",
      "<class '_io.BytesIO'>\n"
     ]
    }
   ],
   "source": [
    "buf, coefficients = algorithm_analyze(function_x, input_type)\n",
    "image = Image.open(buf)\n",
    "\n",
    "# Display the image in the notebook\n",
    "display(image)\n",
    "print(\"Coefficients:\", coefficients)\n",
    "print(type(buf))"
   ]
  },
  {
   "cell_type": "code",
   "execution_count": null,
   "metadata": {},
   "outputs": [],
   "source": []
  },
  {
   "cell_type": "code",
   "execution_count": 10,
   "metadata": {},
   "outputs": [],
   "source": [
    "# coefficients = algorithm_analyze_no_img(function_x, input_type)\n",
    "\n",
    "# print(\"Coefficients:\", coefficients)\n"
   ]
  },
  {
   "cell_type": "markdown",
   "metadata": {},
   "source": [
    "## Generate and save data for training"
   ]
  },
  {
   "cell_type": "code",
   "execution_count": 11,
   "metadata": {},
   "outputs": [],
   "source": [
    "#save_algorithm_output(function_x, 'array', func_type,  1)"
   ]
  },
  {
   "cell_type": "markdown",
   "metadata": {},
   "source": [
    "## Delete generated data"
   ]
  },
  {
   "cell_type": "code",
   "execution_count": 12,
   "metadata": {},
   "outputs": [],
   "source": [
    "#clean_images()"
   ]
  },
  {
   "cell_type": "code",
   "execution_count": 13,
   "metadata": {},
   "outputs": [],
   "source": [
    "#clear_csv_file()"
   ]
  },
  {
   "cell_type": "markdown",
   "metadata": {},
   "source": [
    "## Generate 1000 data units"
   ]
  },
  {
   "cell_type": "code",
   "execution_count": 14,
   "metadata": {},
   "outputs": [],
   "source": [
    "# for func_type in functions:\n",
    "#     #print(func_type)\n",
    "#     for input_type in functions[func_type]:\n",
    "#         #print(input_type)\n",
    "#         for function_x in functions[func_type][input_type]:\n",
    "#             #print(function_x[0:15])\n",
    "#             save_algorithm_output(function_x, input_type, func_type, 20)\n",
    "\n",
    "        "
   ]
  },
  {
   "cell_type": "markdown",
   "metadata": {},
   "source": [
    "## ML model\n"
   ]
  },
  {
   "cell_type": "code",
   "execution_count": 15,
   "metadata": {},
   "outputs": [
    {
     "data": {
      "text/html": [
       "<div>\n",
       "<style scoped>\n",
       "    .dataframe tbody tr th:only-of-type {\n",
       "        vertical-align: middle;\n",
       "    }\n",
       "\n",
       "    .dataframe tbody tr th {\n",
       "        vertical-align: top;\n",
       "    }\n",
       "\n",
       "    .dataframe thead th {\n",
       "        text-align: right;\n",
       "    }\n",
       "</style>\n",
       "<table border=\"1\" class=\"dataframe\">\n",
       "  <thead>\n",
       "    <tr style=\"text-align: right;\">\n",
       "      <th></th>\n",
       "      <th>0</th>\n",
       "      <th>1</th>\n",
       "      <th>2</th>\n",
       "      <th>3</th>\n",
       "      <th>4</th>\n",
       "      <th>5</th>\n",
       "    </tr>\n",
       "  </thead>\n",
       "  <tbody>\n",
       "    <tr>\n",
       "      <th>0</th>\n",
       "      <td>-3.088737e-15</td>\n",
       "      <td>3.882963e-12</td>\n",
       "      <td>-1.479201e-09</td>\n",
       "      <td>2.584509e-07</td>\n",
       "      <td>images3/constant/image_20240915132745911307.png</td>\n",
       "      <td>constant</td>\n",
       "    </tr>\n",
       "    <tr>\n",
       "      <th>1</th>\n",
       "      <td>-6.935702e-16</td>\n",
       "      <td>1.137447e-12</td>\n",
       "      <td>-5.899333e-10</td>\n",
       "      <td>1.999575e-07</td>\n",
       "      <td>images3/constant/image_20240915132746087301.png</td>\n",
       "      <td>constant</td>\n",
       "    </tr>\n",
       "    <tr>\n",
       "      <th>2</th>\n",
       "      <td>-1.625338e-15</td>\n",
       "      <td>1.923411e-12</td>\n",
       "      <td>-6.932264e-10</td>\n",
       "      <td>1.743080e-07</td>\n",
       "      <td>images3/constant/image_20240915132746246348.png</td>\n",
       "      <td>constant</td>\n",
       "    </tr>\n",
       "    <tr>\n",
       "      <th>3</th>\n",
       "      <td>-1.805232e-15</td>\n",
       "      <td>2.207254e-12</td>\n",
       "      <td>-7.988656e-10</td>\n",
       "      <td>1.816451e-07</td>\n",
       "      <td>images3/constant/image_20240915132746406810.png</td>\n",
       "      <td>constant</td>\n",
       "    </tr>\n",
       "    <tr>\n",
       "      <th>4</th>\n",
       "      <td>-1.769825e-15</td>\n",
       "      <td>2.271793e-12</td>\n",
       "      <td>-8.668302e-10</td>\n",
       "      <td>1.851429e-07</td>\n",
       "      <td>images3/constant/image_20240915132746563749.png</td>\n",
       "      <td>constant</td>\n",
       "    </tr>\n",
       "  </tbody>\n",
       "</table>\n",
       "</div>"
      ],
      "text/plain": [
       "              0             1             2             3  \\\n",
       "0 -3.088737e-15  3.882963e-12 -1.479201e-09  2.584509e-07   \n",
       "1 -6.935702e-16  1.137447e-12 -5.899333e-10  1.999575e-07   \n",
       "2 -1.625338e-15  1.923411e-12 -6.932264e-10  1.743080e-07   \n",
       "3 -1.805232e-15  2.207254e-12 -7.988656e-10  1.816451e-07   \n",
       "4 -1.769825e-15  2.271793e-12 -8.668302e-10  1.851429e-07   \n",
       "\n",
       "                                                 4         5  \n",
       "0  images3/constant/image_20240915132745911307.png  constant  \n",
       "1  images3/constant/image_20240915132746087301.png  constant  \n",
       "2  images3/constant/image_20240915132746246348.png  constant  \n",
       "3  images3/constant/image_20240915132746406810.png  constant  \n",
       "4  images3/constant/image_20240915132746563749.png  constant  "
      ]
     },
     "execution_count": 15,
     "metadata": {},
     "output_type": "execute_result"
    }
   ],
   "source": [
    "file = 'features3.csv'\n",
    "df = pd.read_csv(file, header=None)\n",
    "\n",
    "df.head()"
   ]
  },
  {
   "cell_type": "code",
   "execution_count": 16,
   "metadata": {},
   "outputs": [],
   "source": [
    "X = df.iloc[:, :-2].values  \n",
    "y = df.iloc[:, -1].values \n",
    "\n",
    "label_encoder = LabelEncoder()\n",
    "y_encoded = label_encoder.fit_transform(y)\n",
    "\n",
    "scaler = StandardScaler()\n",
    "X_normalized = scaler.fit_transform(X)\n",
    "\n",
    "\n",
    "X_train, X_test, y_train, y_test = train_test_split(X_normalized, y_encoded, test_size=0.2)\n"
   ]
  },
  {
   "cell_type": "code",
   "execution_count": 17,
   "metadata": {},
   "outputs": [
    {
     "name": "stdout",
     "output_type": "stream",
     "text": [
      "Accuracy: 0.96\n",
      "              precision    recall  f1-score   support\n",
      "\n",
      "           0       1.00      1.00      1.00        32\n",
      "           1       0.98      0.91      0.94        45\n",
      "           2       0.95      0.95      0.95        42\n",
      "           3       0.97      0.97      0.97        39\n",
      "           4       0.91      0.98      0.94        42\n",
      "\n",
      "    accuracy                           0.96       200\n",
      "   macro avg       0.96      0.96      0.96       200\n",
      "weighted avg       0.96      0.96      0.96       200\n",
      "\n"
     ]
    }
   ],
   "source": [
    "random_forest_model = RandomForestClassifier(n_estimators=500)\n",
    "\n",
    "# Train the model\n",
    "random_forest_model.fit(X_train, y_train)\n",
    "\n",
    "# Make predictions on the test set\n",
    "y_pred = random_forest_model.predict(X_test)\n",
    "\n",
    "# Output probabilities for each class (optional)\n",
    "y_pred_proba = random_forest_model.predict_proba(X_test)\n",
    "\n",
    "# Evaluate the model\n",
    "print(\"Accuracy:\", accuracy_score(y_test, y_pred))\n",
    "print(classification_report(y_test, y_pred))"
   ]
  },
  {
   "cell_type": "code",
   "execution_count": 18,
   "metadata": {},
   "outputs": [
    {
     "data": {
      "text/plain": [
       "['scaler.pkl']"
      ]
     },
     "execution_count": 18,
     "metadata": {},
     "output_type": "execute_result"
    }
   ],
   "source": [
    "joblib.dump(random_forest_model, 'random_forest_model.pkl')\n",
    "\n",
    "# Save the label encoder to decode predicted labels later\n",
    "joblib.dump(label_encoder, 'label_encoder.pkl')\n",
    "\n",
    "joblib.dump(scaler, 'scaler.pkl')"
   ]
  },
  {
   "cell_type": "code",
   "execution_count": 19,
   "metadata": {},
   "outputs": [],
   "source": [
    "buf, coefficients = algorithm_analyze(function_x, input_type)"
   ]
  },
  {
   "cell_type": "code",
   "execution_count": 20,
   "metadata": {},
   "outputs": [
    {
     "name": "stdout",
     "output_type": "stream",
     "text": [
      "['constant' 'linear' 'log(n)' 'nlog(n)' 'polynomial']\n",
      "Predicted Class: polynomial\n",
      "Class Probabilities: [[0. 0. 0. 0. 1.]]\n"
     ]
    }
   ],
   "source": [
    "loaded_model = joblib.load('random_forest_model.pkl')\n",
    "label_encoder = joblib.load('label_encoder.pkl')\n",
    "\n",
    "# Example new data point (replace with actual values you want to predict)\n",
    "new_data = [coefficients]  # Example features\n",
    "# Normalize the new data point (same normalization process as training data)\n",
    "new_data_normalized = scaler.transform(new_data)\n",
    "\n",
    "# Predict the class probabilities for the new data point\n",
    "predicted_probabilities = loaded_model.predict_proba(new_data_normalized)\n",
    "\n",
    "# Predict the class for the new data point\n",
    "predicted_class = loaded_model.predict(new_data_normalized)\n",
    "\n",
    "# Decode the predicted class back to its original label\n",
    "predicted_label = label_encoder.inverse_transform(predicted_class)\n",
    "print(label_encoder.classes_)\n",
    "# Output the predicted label and probabilities\n",
    "print(\"Predicted Class:\", predicted_label[0])\n",
    "print(\"Class Probabilities:\", predicted_probabilities)"
   ]
  },
  {
   "cell_type": "code",
   "execution_count": 21,
   "metadata": {},
   "outputs": [
    {
     "name": "stdout",
     "output_type": "stream",
     "text": [
      "1.5.1\n"
     ]
    }
   ],
   "source": [
    "import sklearn\n",
    "print(sklearn.__version__)  # Check the version of scikit-learn "
   ]
  }
 ],
 "metadata": {
  "kernelspec": {
   "display_name": "base",
   "language": "python",
   "name": "python3"
  },
  "language_info": {
   "codemirror_mode": {
    "name": "ipython",
    "version": 3
   },
   "file_extension": ".py",
   "mimetype": "text/x-python",
   "name": "python",
   "nbconvert_exporter": "python",
   "pygments_lexer": "ipython3",
   "version": "3.11.5"
  }
 },
 "nbformat": 4,
 "nbformat_minor": 2
}
