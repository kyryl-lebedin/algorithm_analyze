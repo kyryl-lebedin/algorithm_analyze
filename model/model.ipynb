{
 "cells": [
  {
   "cell_type": "code",
   "execution_count": 24,
   "metadata": {},
   "outputs": [],
   "source": [
    "import matplotlib\n",
    "import matplotlib.pyplot as plt\n",
    "import numpy as np\n",
    "import random\n",
    "import time\n",
    "from io import BytesIO\n",
    "from IPython.display import display, Image\n",
    "import statsmodels.api as sm"
   ]
  },
  {
   "cell_type": "code",
   "execution_count": 160,
   "metadata": {},
   "outputs": [],
   "source": [
    "def algorithm_analyze(code_str, input_type):\n",
    "\n",
    "    coeficient_number = 5\n",
    "    n_range = 500\n",
    "\n",
    "    def get_function_object(code_str):\n",
    "        local_scope = {}\n",
    "        \n",
    "        # Execute the function definon in a scope where it can recursively reference itself\n",
    "        exec(code_str, local_scope, local_scope)  # Using local_scope as both global and local scope\n",
    "        \n",
    "        func_name = next(key for key, value in local_scope.items() if callable(value))\n",
    "        algorithm = local_scope[func_name]\n",
    "        \n",
    "        return algorithm\n",
    "\n",
    "\n",
    "\n",
    "    def get_graph(function, input_type):\n",
    "        if input_type == 'list':\n",
    "            sizes, times = list_input(function)  # This function should be defined elsewhere\n",
    "\n",
    "            # Fit a polynomial curve to the data\n",
    "            coefficients = np.polyfit(sizes, times, deg=4)  # Degree 4 polynomial\n",
    "            poly = np.poly1d(coefficients)\n",
    "\n",
    "            # Generate smooth data for the fitted curve\n",
    "            smooth_sizes = np.linspace(min(sizes), max(sizes), 500)  # Smooth sizes from min to max size\n",
    "            smooth_times = poly(smooth_sizes)  # Evaluate polynomial\n",
    "\n",
    "            plt.figure()\n",
    "            plt.plot(sizes, times, 'o', markersize=3, label='Original Data', color='white')  # Original data points\n",
    "            plt.plot(smooth_sizes, smooth_times, 'r-', label='Fitted Curve')  # Fitted curve\n",
    "            plt.axis('off')  # Hide the axes\n",
    "\n",
    "            # Save the plot to a BytesIO stream\n",
    "            buf = BytesIO()\n",
    "            plt.savefig(buf, format='png', bbox_inches='tight', pad_inches=0)\n",
    "            plt.close()  # Close the figure to free memory\n",
    "            buf.seek(0)  # Rewind your buffer\n",
    "            return buf, coefficients.tolist()\n",
    "\n",
    "    def list_input(function):\n",
    "        \n",
    "        n_size = n_range\n",
    "        a_size = 100\n",
    "        sizes = list(range(1, n_size)) \n",
    "        times = []\n",
    "\n",
    "    \n",
    "        for size in sizes:\n",
    "        \n",
    "            test_list = [random.randint(1, a_size) for _ in range(size)]\n",
    "\n",
    "        \n",
    "            start_time = time.perf_counter()  # Start timing\n",
    "            function(test_list)  # Execute the function\n",
    "            end_time = time.perf_counter()  # End timing\n",
    "\n",
    "            # Calculate the elapsed time and append to times list\n",
    "            elapsed_time = end_time - start_time\n",
    "            times.append(elapsed_time)\n",
    "\n",
    "        # Return the sizes and times\n",
    "        return sizes, times\n",
    "    \n",
    "    algorithm = get_function_object(code_str)\n",
    "    buf, coefficients = get_graph(algorithm, input_type)\n",
    "    return buf, coefficients\n",
    "\n"
   ]
  },
  {
   "cell_type": "code",
   "execution_count": 164,
   "metadata": {},
   "outputs": [
    {
     "data": {
      "image/png": "[encoded data removed]",
      "text/plain": [
       "<IPython.core.display.Image object>"
      ]
     },
     "metadata": {},
     "output_type": "display_data"
    },
    {
     "name": "stdout",
     "output_type": "stream",
     "text": [
      "Coefficients: [-2.6521972877782483e-15, 3.0463314293607286e-12, -1.1457095658739157e-09, 1.729317046220365e-07, -7.388947064359785e-07]\n"
     ]
    }
   ],
   "source": [
    "function = \"\"\"\n",
    "def quick_sort(arr):\n",
    "    if len(arr) <= 1:\n",
    "        return arr\n",
    "    else:\n",
    "        pivot = arr[0]\n",
    "        less = [x for x in arr[1:] if x <= pivot]\n",
    "        greater = [x for x in arr[1:] if x > pivot]\n",
    "        return quick_sort(less) + [pivot] + quick_sort(greater)\n",
    "\"\"\"\n",
    "\n",
    "function = \"\"\"\n",
    "def function_name(arr):\n",
    "    n = 1\n",
    "    \n",
    "\"\"\"\n",
    "\n",
    "function = \"\"\"\n",
    "def function_name(arr):\n",
    "    for i in range(len(arr)):\n",
    "        n = 1\n",
    "        n = n + 1\n",
    "\"\"\"\n",
    "\n",
    "buf, coefficients = algorithm_analyze(function, 'list')\n",
    "\n",
    "display(Image(data=buf.getvalue()))  # Display the image\n",
    "print(\"Coefficients:\", coefficients)"
   ]
  },
  {
   "cell_type": "code",
   "execution_count": 27,
   "metadata": {},
   "outputs": [],
   "source": [
    "def save_algoritm_output(code_str, input_type, complexity_type, repeat):\n",
    "    image, coefficients = algorithm_analyze(code_str, input_type)\n",
    "    \n",
    "    \n",
    "\n",
    "    "
   ]
  }
 ],
 "metadata": {
  "kernelspec": {
   "display_name": "base",
   "language": "python",
   "name": "python3"
  },
  "language_info": {
   "codemirror_mode": {
    "name": "ipython",
    "version": 3
   },
   "file_extension": ".py",
   "mimetype": "text/x-python",
   "name": "python",
   "nbconvert_exporter": "python",
   "pygments_lexer": "ipython3",
   "version": "3.11.5"
  }
 },
 "nbformat": 4,
 "nbformat_minor": 2
}
